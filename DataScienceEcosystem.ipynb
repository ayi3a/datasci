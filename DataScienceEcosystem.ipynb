{
 "cells": [
  {
   "cell_type": "markdown",
   "id": "dc334183-d241-49a5-94fe-7adde36122fe",
   "metadata": {},
   "source": [
    "# Data Science Tools and Ecosystem\n"
   ]
  },
  {
   "cell_type": "markdown",
   "id": "f47512db-5e7f-479d-9ead-7336877aeef0",
   "metadata": {},
   "source": [
    "Today is January 17th 2025. In this notebook, Data Science Tools and Ecosystem \n",
    "are summarized."
   ]
  },
  {
   "cell_type": "markdown",
   "id": "bb88ab10-3e73-44cb-bcca-ca1972f6b6e5",
   "metadata": {},
   "source": [
    "<b>Objectives:</b>\n",
    "- Formatting texts properly on markdown cells such as headings, unordered list, and bolding a text.\n",
    "- Creating a table with preferred number of columns and rows.\n",
    "- Perform basic arithmetic operations in Python.\n",
    "- Listing popular languages that Data Science use.\n",
    "- Enumerating commonly used libraries by Data Scientists."
   ]
  },
  {
   "cell_type": "markdown",
   "id": "5923af1a-61f8-47a6-97d7-74266f5c124d",
   "metadata": {},
   "source": [
    "Some of the popular languages that Data Scientists use are:\n",
    "- Python\n",
    "- R Language\n",
    "- Java"
   ]
  },
  {
   "cell_type": "markdown",
   "id": "f6fdb7ef-1c4f-49aa-a10d-5c5e4990b562",
   "metadata": {},
   "source": [
    "Some of the commonly used libraries used by Data Scientists include:\n",
    "- Numpy\n",
    "- Pandas\n",
    "- Matplotlib\n",
    "- Seaborn"
   ]
  },
  {
   "cell_type": "markdown",
   "id": "ab64f5b9-e911-4da6-81a2-ca6f2721aca5",
   "metadata": {},
   "source": [
    "List 3 development environment open source tools used in Data Science.\n",
    "\n",
    "|   Data Science Tools   |\n",
    "| -----------------------|\n",
    "|  RStudio    |\n",
    "|  Jupyter Lab            |\n",
    "|  Visual Studio Code        |"
   ]
  },
  {
   "cell_type": "markdown",
   "id": "40a7a2b6-391e-4f61-b7a2-289873cbe1ff",
   "metadata": {},
   "source": [
    "### Below are a few examples of evaluating arithmetic expression in Python."
   ]
  },
  {
   "cell_type": "code",
   "execution_count": 5,
   "id": "01e81a16-3097-4b80-a847-4773db8e20cb",
   "metadata": {},
   "outputs": [
    {
     "data": {
      "text/plain": [
       "17"
      ]
     },
     "execution_count": 5,
     "metadata": {},
     "output_type": "execute_result"
    }
   ],
   "source": [
    "# This is an example of a simple arithemetic expression \n",
    "# to multilpy then add integers\n",
    "\n",
    "(3*4)+5"
   ]
  },
  {
   "cell_type": "code",
   "execution_count": 15,
   "id": "26bb94d7-205a-418f-ada3-3575bade0b67",
   "metadata": {},
   "outputs": [
    {
     "name": "stdout",
     "output_type": "stream",
     "text": [
      "3.3333333333333335\n"
     ]
    }
   ],
   "source": [
    "# This will convert 200 minutes to hours by diving by 60\n",
    "\n",
    "hours = 200 / 60\n",
    "print (hours)"
   ]
  },
  {
   "cell_type": "markdown",
   "id": "113a6300-a4af-4123-9d7d-5960de78f2c8",
   "metadata": {},
   "source": [
    "## Author: \n",
    "Rhia Lyn Austria"
   ]
  },
  {
   "cell_type": "markdown",
   "id": "b527e690-4de0-42be-8688-d4077ae47907",
   "metadata": {},
   "source": [
    "    "
   ]
  }
 ],
 "metadata": {
  "kernelspec": {
   "display_name": "Python 3 (ipykernel)",
   "language": "python",
   "name": "python3"
  },
  "language_info": {
   "codemirror_mode": {
    "name": "ipython",
    "version": 3
   },
   "file_extension": ".py",
   "mimetype": "text/x-python",
   "name": "python",
   "nbconvert_exporter": "python",
   "pygments_lexer": "ipython3",
   "version": "3.10.15"
  }
 },
 "nbformat": 4,
 "nbformat_minor": 5
}
